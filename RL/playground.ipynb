{
 "cells": [
  {
   "cell_type": "code",
   "execution_count": 20,
   "metadata": {},
   "outputs": [
    {
     "name": "stdout",
     "output_type": "stream",
     "text": [
      "tensor([[ 0.0357,  0.0454,  0.0149, -0.0422]])\n",
      "tensor([[-0.1017,  0.0787]], grad_fn=<AddmmBackward>)\n",
      "tensor([[0.4550, 0.5450]], grad_fn=<SoftmaxBackward>)\n",
      "[0.4550201  0.54497993]\n"
     ]
    }
   ],
   "source": [
    "import gym\n",
    "import numpy as np\n",
    "from tensorboardX import SummaryWriter\n",
    "import torch\n",
    "from torch import nn\n",
    "from torch.optim import Adam\n",
    "\n",
    "OBSERVATION_SIZE = env.observation_space.shape[0]\n",
    "NUM_ACTIONS = env.action_space.n\n",
    "HIDDEN_SIZE = 128\n",
    "BATCH_SIZE = 16\n",
    "PERCENTILE = 70\n",
    "\n",
    "network = nn.Sequential(\n",
    "    nn.Linear(in_features=OBSERVATION_SIZE, out_features=HIDDEN_SIZE),\n",
    "    nn.ReLU(),\n",
    "    nn.Linear(in_features=HIDDEN_SIZE, out_features=NUM_ACTIONS),\n",
    ")\n",
    "\n",
    "sm = nn.Softmax(dim=1)\n",
    "\n",
    "env = gym.make('CartPole-v0')\n",
    "obs = env.reset()\n",
    "obs_v = torch.FloatTensor([obs])\n",
    "act_probabilities_v = sm(network(input=obs_v))\n",
    "act_probabilities = act_probabilities_v.data.numpy()[0]\n",
    "\n",
    "print(obs_v)\n",
    "print(network(obs_v))\n",
    "print(act_probabilities_v)\n",
    "print(act_probabilities)"
   ]
  },
  {
   "cell_type": "code",
   "execution_count": null,
   "metadata": {},
   "outputs": [],
   "source": []
  },
  {
   "cell_type": "code",
   "execution_count": null,
   "metadata": {},
   "outputs": [],
   "source": []
  },
  {
   "cell_type": "code",
   "execution_count": null,
   "metadata": {},
   "outputs": [],
   "source": []
  }
 ],
 "metadata": {
  "kernelspec": {
   "display_name": "Python 3",
   "language": "python",
   "name": "python3"
  },
  "language_info": {
   "codemirror_mode": {
    "name": "ipython",
    "version": 3
   },
   "file_extension": ".py",
   "mimetype": "text/x-python",
   "name": "python",
   "nbconvert_exporter": "python",
   "pygments_lexer": "ipython3",
   "version": "3.7.5"
  }
 },
 "nbformat": 4,
 "nbformat_minor": 4
}
