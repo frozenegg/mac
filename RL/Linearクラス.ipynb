{
 "cells": [
  {
   "cell_type": "markdown",
   "metadata": {},
   "source": [
    "# Linearクラス\n",
    "PyTorchを使えば、torch.nn.Linear を用いて全結合を行う3層構造NNを次のようにして作ることができる。"
   ]
  },
  {
   "cell_type": "code",
   "execution_count": 9,
   "metadata": {},
   "outputs": [],
   "source": [
    "from torch import nn\n",
    "\n",
    "INPUT_FEATURES = 4\n",
    "HIDDEN = 5\n",
    "OUTPUT_FEATURES = 1\n",
    "\n",
    "class Net(nn.Module):\n",
    "    def __init__(self):\n",
    "        super().__init__()\n",
    "        self.fc1 = nn.Linear(INPUT_FEATURES, HIDDEN)\n",
    "        self.fc2 = nn.Linear(HIDDEN, OUTPUT_FEATURES)\n",
    "\n",
    "    def forward(self, x):\n",
    "        x = self.fc1(x)\n",
    "        x = torch.sigmoid(x)\n",
    "        x = self.fc2(x)\n",
    "        return x"
   ]
  },
  {
   "cell_type": "markdown",
   "metadata": {},
   "source": [
    "学習"
   ]
  },
  {
   "cell_type": "code",
   "execution_count": 10,
   "metadata": {},
   "outputs": [],
   "source": [
    "from sklearn.datasets import load_iris\n",
    "from sklearn.model_selection import train_test_split\n",
    "import torch\n",
    "\n",
    "iris = load_iris()\n",
    "X_train, X_test, y_train, y_test = train_test_split(iris.data, iris.target)\n",
    "\n",
    "X_train = torch.from_numpy(X_train).float()\n",
    "y_train = torch.tensor([[float(x)] for x in y_train])\n",
    "X_test = torch.from_numpy(X_test).float()\n",
    "y_test = torch.tensor([[float(x)] for x in y_test])"
   ]
  },
  {
   "cell_type": "code",
   "execution_count": 11,
   "metadata": {},
   "outputs": [
    {
     "name": "stdout",
     "output_type": "stream",
     "text": [
      "epoch:  100, loss: 0.612948477268219\n",
      "epoch:  200, loss: 0.566209614276886\n",
      "epoch:  300, loss: 0.5282420516014099\n",
      "epoch:  400, loss: 0.48541387915611267\n",
      "epoch:  500, loss: 0.4409243166446686\n",
      "epoch:  600, loss: 0.39604538679122925\n",
      "epoch:  700, loss: 0.35173889994621277\n",
      "epoch:  800, loss: 0.30919209122657776\n",
      "epoch:  900, loss: 0.26955166459083557\n",
      "epoch: 1000, loss: 0.2336779683828354\n",
      "epoch: 1100, loss: 0.20205099880695343\n",
      "epoch: 1200, loss: 0.1747889518737793\n",
      "epoch: 1300, loss: 0.15172600746154785\n",
      "epoch: 1400, loss: 0.1325053870677948\n",
      "epoch: 1500, loss: 0.11666645109653473\n",
      "epoch: 1600, loss: 0.10371235758066177\n",
      "epoch: 1700, loss: 0.0931587740778923\n",
      "epoch: 1800, loss: 0.0845637172460556\n",
      "epoch: 1900, loss: 0.07754315435886383\n",
      "epoch: 2000, loss: 0.07177573442459106\n",
      "training finished\n"
     ]
    }
   ],
   "source": [
    "net = Net()\n",
    "\n",
    "criterion = nn.MSELoss()\n",
    "optimizer = torch.optim.SGD(net.parameters(), lr=0.003)\n",
    "\n",
    "EPOCHS = 2000\n",
    "for epoch in range(EPOCHS):\n",
    "    optimizer.zero_grad()\n",
    "    outputs = net(X_train)\n",
    "    loss = criterion(outputs, y_train)\n",
    "    loss.backward() # 逆誤差伝搬\n",
    "    optimizer.step() # パラメータ更新\n",
    "    \n",
    "    if epoch % 100 == 99:\n",
    "        print(f'epoch: {epoch+1:4}, loss: {loss.data}')\n",
    "\n",
    "print('training finished')"
   ]
  },
  {
   "cell_type": "code",
   "execution_count": 12,
   "metadata": {},
   "outputs": [
    {
     "name": "stdout",
     "output_type": "stream",
     "text": [
      "tensor(109)\n"
     ]
    }
   ],
   "source": [
    "predict = (outputs + 0.5).int()\n",
    "compare = predict == y_train\n",
    "print(compare.sum())"
   ]
  },
  {
   "cell_type": "code",
   "execution_count": null,
   "metadata": {},
   "outputs": [],
   "source": []
  }
 ],
 "metadata": {
  "kernelspec": {
   "display_name": "Python 3",
   "language": "python",
   "name": "python3"
  },
  "language_info": {
   "codemirror_mode": {
    "name": "ipython",
    "version": 3
   },
   "file_extension": ".py",
   "mimetype": "text/x-python",
   "name": "python",
   "nbconvert_exporter": "python",
   "pygments_lexer": "ipython3",
   "version": "3.7.5"
  }
 },
 "nbformat": 4,
 "nbformat_minor": 4
}
